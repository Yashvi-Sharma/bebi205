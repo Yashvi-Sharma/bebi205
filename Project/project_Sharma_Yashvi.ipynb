{
 "cells": [
  {
   "cell_type": "code",
   "execution_count": 161,
   "id": "5b06dee5",
   "metadata": {},
   "outputs": [],
   "source": [
    "import bio_embeddings\n",
    "from bio_embeddings.embed import ESM1bEmbedder\n",
    "from tdc.multi_pred import GDA\n",
    "from tdc import Evaluator\n",
    "import pandas as pd\n",
    "import matplotlib.pyplot as plt\n",
    "import numpy as np\n",
    "import glob2\n",
    "import torch\n",
    "from torch.utils.data import DataLoader, Dataset\n",
    "from torch import nn, optim\n",
    "import torchmetrics\n",
    "import spacy\n",
    "import en_core_web_md\n",
    "from gensim.corpora.dictionary import Dictionary\n",
    "import gensim.downloader as api\n",
    "from gensim.models.doc2vec import Doc2Vec, TaggedDocument\n",
    "from sklearn.manifold import TSNE\n",
    "from sklearn.preprocessing import MinMaxScaler\n",
    "from sklearn.neighbors import KernelDensity\n",
    "import pytorch_lightning as pl\n",
    "from pytorch_lightning.callbacks.early_stopping import EarlyStopping\n",
    "from pytorch_lightning.loggers import TensorBoardLogger"
   ]
  },
  {
   "cell_type": "code",
   "execution_count": 2,
   "id": "8d0d192e",
   "metadata": {},
   "outputs": [
    {
     "name": "stderr",
     "output_type": "stream",
     "text": [
      "Found local copy...\n",
      "Loading...\n",
      "Done!\n"
     ]
    },
    {
     "name": "stdout",
     "output_type": "stream",
     "text": [
      "Training samples:  36733\n",
      "Validation samples:  5248\n",
      "Testing samples:  10495\n"
     ]
    }
   ],
   "source": [
    "data = GDA(name = 'DisGeNET')\n",
    "split = data.get_split()\n",
    "traindf = pd.DataFrame(split['train'])\n",
    "valdf = pd.DataFrame(split['valid'])\n",
    "testdf = pd.DataFrame(split['test'])\n",
    "print('Training samples: ',len(traindf))\n",
    "print('Validation samples: ',len(valdf))\n",
    "print('Testing samples: ',len(testdf))"
   ]
  },
  {
   "cell_type": "markdown",
   "id": "ed3df246",
   "metadata": {},
   "source": [
    "<!-- ## Doc2Vec embeddings -->"
   ]
  },
  {
   "cell_type": "markdown",
   "id": "cc28fdb8",
   "metadata": {},
   "source": [
    "<!-- In project_data_exploration.ipynb, I explored using Doc2Vec embeddings for disease descriptions which trained relatively fast.\n",
    "\n",
    "For amino acid sequences, I earlier decided to use one-hot encoding, but given the lengthy sequences in this data, I've shifted to using ML embeddings for genes. I started exploring ESM transformer model for transfer learning but the pretrained model is limited to 1026 max sequence length. I want to find an appropriate pretrained model for long amino acid sequences, or utilize the existing ones to somehow ingest the whole sequence (in parts) but until then, I've decided to use Doc2Vec embeddings for genes.\n",
    "\n",
    "The cells below tokenize and train Doc2Vec model for gene sequences\n",
    "\n",
    "This is what I have so far. Last I checked the disease description embeddings were reasonable clustered together in PCA space for same disease IDs using doc2vec, but I don't have a way yet to benchmark the gene embeddings. What I'll do instead is benchmark ML gene embeddings against one-hot encodings.\n",
    "\n",
    "I'll start training and testing this CNN model above and play around with the parameters, compare performance with different encodings, maybe also try transformer encodings. If I see reasonable results and if there is more time, I'll explore RNN architecture or a combination of RNN-CNN. -->"
   ]
  },
  {
   "cell_type": "code",
   "execution_count": 3,
   "id": "872fa4e9",
   "metadata": {
    "scrolled": true
   },
   "outputs": [
    {
     "data": {
      "text/html": [
       "<div>\n",
       "<style scoped>\n",
       "    .dataframe tbody tr th:only-of-type {\n",
       "        vertical-align: middle;\n",
       "    }\n",
       "\n",
       "    .dataframe tbody tr th {\n",
       "        vertical-align: top;\n",
       "    }\n",
       "\n",
       "    .dataframe thead th {\n",
       "        text-align: right;\n",
       "    }\n",
       "</style>\n",
       "<table border=\"1\" class=\"dataframe\">\n",
       "  <thead>\n",
       "    <tr style=\"text-align: right;\">\n",
       "      <th></th>\n",
       "      <th>Gene_ID</th>\n",
       "      <th>Gene</th>\n",
       "      <th>Disease_ID</th>\n",
       "      <th>Disease</th>\n",
       "      <th>Y</th>\n",
       "    </tr>\n",
       "  </thead>\n",
       "  <tbody>\n",
       "    <tr>\n",
       "      <th>0</th>\n",
       "      <td>1</td>\n",
       "      <td>MSMLVVFLLLWGVTWGPVTEAAIFYETQPSLWAESESLLKPLANVT...</td>\n",
       "      <td>C0019209</td>\n",
       "      <td>Hepatomegaly: Abnormal enlargement of the liver.</td>\n",
       "      <td>0.30</td>\n",
       "    </tr>\n",
       "    <tr>\n",
       "      <th>1</th>\n",
       "      <td>1</td>\n",
       "      <td>MSMLVVFLLLWGVTWGPVTEAAIFYETQPSLWAESESLLKPLANVT...</td>\n",
       "      <td>C0036341</td>\n",
       "      <td>Schizophrenia: Schizophrenia is highly heritab...</td>\n",
       "      <td>0.30</td>\n",
       "    </tr>\n",
       "    <tr>\n",
       "      <th>2</th>\n",
       "      <td>2</td>\n",
       "      <td>MGKNKLLHPSLVLLLLVLLPTDASVSGKPQYMVLVPSLLHTETTEK...</td>\n",
       "      <td>C0002395</td>\n",
       "      <td>Alzheimer's Disease: Alzheimer disease is the ...</td>\n",
       "      <td>0.50</td>\n",
       "    </tr>\n",
       "    <tr>\n",
       "      <th>3</th>\n",
       "      <td>2</td>\n",
       "      <td>MGKNKLLHPSLVLLLLVLLPTDASVSGKPQYMVLVPSLLHTETTEK...</td>\n",
       "      <td>C0011265</td>\n",
       "      <td>Presenile dementia: The presence of dementia i...</td>\n",
       "      <td>0.30</td>\n",
       "    </tr>\n",
       "    <tr>\n",
       "      <th>4</th>\n",
       "      <td>2</td>\n",
       "      <td>MGKNKLLHPSLVLLLLVLLPTDASVSGKPQYMVLVPSLLHTETTEK...</td>\n",
       "      <td>C0019202</td>\n",
       "      <td>Hepatolenticular Degeneration: Wilson disease ...</td>\n",
       "      <td>0.30</td>\n",
       "    </tr>\n",
       "    <tr>\n",
       "      <th>...</th>\n",
       "      <td>...</td>\n",
       "      <td>...</td>\n",
       "      <td>...</td>\n",
       "      <td>...</td>\n",
       "      <td>...</td>\n",
       "    </tr>\n",
       "    <tr>\n",
       "      <th>36728</th>\n",
       "      <td>100507436</td>\n",
       "      <td>MGLGPVFLLLAGIFPFAPPGAAAEPHSLRYNLTVLSWDGSVQSGFL...</td>\n",
       "      <td>C0010051</td>\n",
       "      <td>Coronary Aneurysm: Abnormal balloon- or sac-li...</td>\n",
       "      <td>0.30</td>\n",
       "    </tr>\n",
       "    <tr>\n",
       "      <th>36729</th>\n",
       "      <td>100507436</td>\n",
       "      <td>MGLGPVFLLLAGIFPFAPPGAAAEPHSLRYNLTVLSWDGSVQSGFL...</td>\n",
       "      <td>C0029172</td>\n",
       "      <td>Oral Submucous Fibrosis: Irreversible FIBROSIS...</td>\n",
       "      <td>0.31</td>\n",
       "    </tr>\n",
       "    <tr>\n",
       "      <th>36730</th>\n",
       "      <td>100820829</td>\n",
       "      <td>MLRSTSTVTLLSGGAARTPGAPSRRANVCRLRLTVPPESPVPEQCE...</td>\n",
       "      <td>C0087031</td>\n",
       "      <td>Juvenile-Onset Still Disease: An inflammatory ...</td>\n",
       "      <td>0.30</td>\n",
       "    </tr>\n",
       "    <tr>\n",
       "      <th>36731</th>\n",
       "      <td>100820829</td>\n",
       "      <td>MLRSTSTVTLLSGGAARTPGAPSRRANVCRLRLTVPPESPVPEQCE...</td>\n",
       "      <td>C3495559</td>\n",
       "      <td>Juvenile arthritis: Juvenile arthritis (JUVAR)...</td>\n",
       "      <td>0.30</td>\n",
       "    </tr>\n",
       "    <tr>\n",
       "      <th>36732</th>\n",
       "      <td>100820829</td>\n",
       "      <td>MLRSTSTVTLLSGGAARTPGAPSRRANVCRLRLTVPPESPVPEQCE...</td>\n",
       "      <td>C3714758</td>\n",
       "      <td>Juvenile psoriatic arthritis: Childhood arthri...</td>\n",
       "      <td>0.30</td>\n",
       "    </tr>\n",
       "  </tbody>\n",
       "</table>\n",
       "<p>36733 rows × 5 columns</p>\n",
       "</div>"
      ],
      "text/plain": [
       "         Gene_ID                                               Gene  \\\n",
       "0              1  MSMLVVFLLLWGVTWGPVTEAAIFYETQPSLWAESESLLKPLANVT...   \n",
       "1              1  MSMLVVFLLLWGVTWGPVTEAAIFYETQPSLWAESESLLKPLANVT...   \n",
       "2              2  MGKNKLLHPSLVLLLLVLLPTDASVSGKPQYMVLVPSLLHTETTEK...   \n",
       "3              2  MGKNKLLHPSLVLLLLVLLPTDASVSGKPQYMVLVPSLLHTETTEK...   \n",
       "4              2  MGKNKLLHPSLVLLLLVLLPTDASVSGKPQYMVLVPSLLHTETTEK...   \n",
       "...          ...                                                ...   \n",
       "36728  100507436  MGLGPVFLLLAGIFPFAPPGAAAEPHSLRYNLTVLSWDGSVQSGFL...   \n",
       "36729  100507436  MGLGPVFLLLAGIFPFAPPGAAAEPHSLRYNLTVLSWDGSVQSGFL...   \n",
       "36730  100820829  MLRSTSTVTLLSGGAARTPGAPSRRANVCRLRLTVPPESPVPEQCE...   \n",
       "36731  100820829  MLRSTSTVTLLSGGAARTPGAPSRRANVCRLRLTVPPESPVPEQCE...   \n",
       "36732  100820829  MLRSTSTVTLLSGGAARTPGAPSRRANVCRLRLTVPPESPVPEQCE...   \n",
       "\n",
       "      Disease_ID                                            Disease     Y  \n",
       "0       C0019209   Hepatomegaly: Abnormal enlargement of the liver.  0.30  \n",
       "1       C0036341  Schizophrenia: Schizophrenia is highly heritab...  0.30  \n",
       "2       C0002395  Alzheimer's Disease: Alzheimer disease is the ...  0.50  \n",
       "3       C0011265  Presenile dementia: The presence of dementia i...  0.30  \n",
       "4       C0019202  Hepatolenticular Degeneration: Wilson disease ...  0.30  \n",
       "...          ...                                                ...   ...  \n",
       "36728   C0010051  Coronary Aneurysm: Abnormal balloon- or sac-li...  0.30  \n",
       "36729   C0029172  Oral Submucous Fibrosis: Irreversible FIBROSIS...  0.31  \n",
       "36730   C0087031  Juvenile-Onset Still Disease: An inflammatory ...  0.30  \n",
       "36731   C3495559  Juvenile arthritis: Juvenile arthritis (JUVAR)...  0.30  \n",
       "36732   C3714758  Juvenile psoriatic arthritis: Childhood arthri...  0.30  \n",
       "\n",
       "[36733 rows x 5 columns]"
      ]
     },
     "execution_count": 3,
     "metadata": {},
     "output_type": "execute_result"
    }
   ],
   "source": [
    "traindf"
   ]
  },
  {
   "cell_type": "markdown",
   "id": "203068cb",
   "metadata": {},
   "source": [
    "## Defining a class to process load dataset"
   ]
  },
  {
   "cell_type": "code",
   "execution_count": 230,
   "id": "025e4b68",
   "metadata": {},
   "outputs": [],
   "source": [
    "class GDPair(torch.utils.data.Dataset):\n",
    "    def __init__(self, data, datatype='train', embed='esm', load_from_save=False, mode='cont'):\n",
    "        '''\n",
    "        Torch dataset class to load GDA data\n",
    "        Args:\n",
    "            data (pd.DataFrame): Dataframe constructed from TDC split output\n",
    "            datatype (str): train, val or test\n",
    "            embed (str): Embedding method for amino acid sequence (doc2vec or esm)\n",
    "            load_from_save (bool): If true, loads saved vector embeddings\n",
    "            mode (str): cont or cat. cont for regression with association score, \n",
    "                        cat for categorical classification with labels decided from score bins\n",
    "        Returns: None\n",
    "        '''\n",
    "        # data is pandas dataframe of samples\n",
    "        self.data = data\n",
    "        # Need to pass mode to getitem\n",
    "        self.mode = mode\n",
    "        \n",
    "        if not load_from_save:\n",
    "            self.tokenize_diseases()\n",
    "            # Train doc2vec embeddings for disease if model doesn't exist already\n",
    "            if glob2.glob('disease_doc2vec') == []:\n",
    "                self.embed_model_disease = self.train_doc2vec_embeddings(which='disease_tokens',size=20)\n",
    "            else:\n",
    "                print('Found disease doc2vec model')\n",
    "                self.embed_model_disease = Doc2Vec.load('disease_doc2vec')\n",
    "\n",
    "            # Train doc2vec or use embedding model for genes\n",
    "            if embed=='doc2vec':\n",
    "                self.tokenize_genes()\n",
    "                if glob2.glob('gene_doc2vec') == []:\n",
    "                    self.embed_model_gene = self.train_doc2vec_embeddings(which='gene_tokens',size=4)\n",
    "                else:\n",
    "                    print('Found gene doc2vec model')\n",
    "                    self.embed_model_gene = Doc2Vec.load('gene_doc2vec')\n",
    "            else:\n",
    "                self.embed_model_gene = ESM1bEmbedder()\n",
    "\n",
    "            self.genes = []\n",
    "            self.diseases = []\n",
    "            self.labels = []\n",
    "            for i in range(len(data)):\n",
    "                row = data.loc[i]\n",
    "                if embed=='doc2vec':\n",
    "                    self.genes += [torch.tensor(self.process_gene(row['gene_tokens'])).unsqueeze(0)]\n",
    "                else:\n",
    "                    self.genes += [torch.tensor(self.process_gene_esm(row['Gene'][0:1022])).unsqueeze(0)]\n",
    "                self.diseases += [torch.tensor(self.process_disease(row['disease_tokens'])).unsqueeze(0)]\n",
    "                self.labels += [self.process_labels(row['Y'])]\n",
    "            self.labels = torch.tensor(self.labels)\n",
    "            torch.save(self.genes, f'gene_vector_{datatype}.pt')\n",
    "            torch.save(self.diseases, f'disease_vector_{datatype}.pt')\n",
    "            \n",
    "        else:\n",
    "            self.genes = torch.load(f'gene_vector_{datatype}.pt')\n",
    "            self.diseases = torch.load(f'disease_vector_{datatype}.pt')\n",
    "            self.labels = []\n",
    "            for i in range(len(data)):\n",
    "                self.labels += [self.process_labels(data.loc[i,'Y'])]\n",
    "            self.labels = torch.tensor(self.labels)\n",
    "            \n",
    "        if self.mode == 'cont':\n",
    "            # Adding sample weights using kde\n",
    "            kde = KernelDensity(kernel='gaussian', bandwidth=0.1).fit(np.array(self.data['Y']).reshape(-1,1))\n",
    "            inv_wgt = np.exp(kde.score_samples(np.array(self.data['Y']).reshape(-1,1)))\n",
    "            wgt = (1.0/inv_wgt).astype('float32')\n",
    "            self.weights = torch.tensor(wgt)\n",
    "        elif self.mode == 'cat':\n",
    "            # Label weights for classifier mode\n",
    "            labelinds, counts = np.unique(self.labels.numpy(),return_counts=True)\n",
    "            wgt_per_ind = (1.0/counts).astype('float32')\n",
    "            self.weights = torch.tensor([wgt_per_ind[int(lbl)] for lbl in self.labels.numpy()])\n",
    "        \n",
    "    \n",
    "    def tokenize_diseases(self):\n",
    "        removal= ['ADV','PRON','CCONJ','PUNCT','PART','DET','ADP','SPACE', 'SYM']\n",
    "        nlp = en_core_web_md.load()\n",
    "        tokens = []\n",
    "        for disease in nlp.pipe(self.data['Disease']):\n",
    "            tokens.append([token.lemma_ for token in disease if token.pos_ not in removal])\n",
    "        self.data['disease_tokens']  = tokens\n",
    "\n",
    "    def tokenize_genes(self):\n",
    "        self.data['gene_tokens'] = [list(gene) for gene in self.data['Gene']]\n",
    "        \n",
    "    def train_doc2vec_embeddings(self,which='disease_tokens',size=20):\n",
    "        tokens = self.data[which]\n",
    "        dictionary = Dictionary(self.data[which])\n",
    "        documents = [TaggedDocument(doc,dictionary.doc2idx(doc)) for doc in tokens]\n",
    "        model = Doc2Vec(documents,vector_size=size)\n",
    "        print('Finished Doc2Vec embedding for ',which)\n",
    "        model.save(f'{which.split(\"_\")[0]}_doc2vec')\n",
    "        return model\n",
    "    \n",
    "    def process_gene(self,gene_token):\n",
    "        return self.embed_model_gene.infer_vector(gene_token)\n",
    "        \n",
    "    def process_disease(self,disease_token):\n",
    "        return self.embed_model_disease.infer_vector(disease_token, use_norm=True)\n",
    "    \n",
    "    def process_gene_esm(self,gene):\n",
    "        embedder = self.embed_model_gene\n",
    "        return embedder.reduce_per_protein(embedder.embed(gene))\n",
    "    \n",
    "    def process_labels(self,y):\n",
    "        label = None\n",
    "        binedges = np.arange(0.3,1.1,0.1)\n",
    "        binedges[-1] = 1.1\n",
    "        for j, edge in enumerate(binedges[:-1]):\n",
    "            if y >= edge and y < binedges[j+1]:\n",
    "                label = j\n",
    "                break\n",
    "        return label\n",
    "        \n",
    "    def __len__(self):\n",
    "        return len(self.data)\n",
    "    \n",
    "    def __getitem__(self, i):\n",
    "        gene_scaler = MinMaxScaler(feature_range=(-1,1))\n",
    "        scaled_gene = torch.tensor(gene_scaler.fit_transform(self.genes[i].numpy().reshape(-1,1)).reshape(1,-1))\n",
    "        disease_scaler = MinMaxScaler(feature_range=(-1,1))\n",
    "        scaled_disease = torch.tensor(disease_scaler.fit_transform(self.diseases[i].numpy().reshape(-1,1)).reshape(1,-1))\n",
    "        if self.mode == 'cont':\n",
    "            y = self.data.loc[i,'Y']\n",
    "        elif self.mode == 'cat':\n",
    "            y = self.labels[i]\n",
    "        return scaled_gene,scaled_disease,y,self.weights[i]\n"
   ]
  },
  {
   "cell_type": "code",
   "execution_count": 231,
   "id": "646c4269",
   "metadata": {},
   "outputs": [],
   "source": [
    "trainset0 = GDPair(traindf,datatype='train',load_from_save=True)\n",
    "valset0 = GDPair(valdf,datatype='val',load_from_save=True)\n",
    "testset0 = GDPair(testdf,datatype='test',load_from_save=True)"
   ]
  },
  {
   "cell_type": "markdown",
   "id": "48509c2b",
   "metadata": {},
   "source": [
    "## Simple Linear model"
   ]
  },
  {
   "cell_type": "code",
   "execution_count": 232,
   "id": "70a10d83",
   "metadata": {},
   "outputs": [],
   "source": [
    "trainloader = DataLoader(trainset0, batch_size=64, shuffle=True)\n",
    "valloader = DataLoader(valset0, batch_size=64)\n",
    "testloader = DataLoader(testset0, batch_size=64)\n",
    "predictloader = DataLoader(testset0, batch_size=1)"
   ]
  },
  {
   "cell_type": "code",
   "execution_count": 233,
   "id": "ba7ada97",
   "metadata": {},
   "outputs": [],
   "source": [
    "class GDALinear(pl.LightningModule):\n",
    "    def __init__(self, lr=1e-3, num_workers=4, batch_size=32):\n",
    "        super().__init__()\n",
    "        self.lr = lr\n",
    "        self.num_workers = num_workers\n",
    "        self.batch_size = batch_size\n",
    "        \n",
    "        self.lng1 = nn.Linear(1280,4)\n",
    "        self.relu = nn.ReLU()\n",
    "        self.lnd1 = nn.Linear(20,4)\n",
    "        self.lnc = nn.Linear(8,1)\n",
    "        \n",
    "    def forward(self, gene, disease):\n",
    "        g = self.lng1(gene)\n",
    "        g = self.relu(g)\n",
    "        \n",
    "        d = self.lnd1(disease)\n",
    "        d = self.relu(d)\n",
    "        \n",
    "        x = torch.cat((g,d),dim=2)\n",
    "        x = self.relu(x)\n",
    "#         print(x.shape)\n",
    "        return self.lnc(x)\n",
    "    \n",
    "    def training_step(self,batch,batch_idx):\n",
    "        gene, disease, y, weight = batch\n",
    "        y_pred = torch.flatten(self(gene, disease)).double()\n",
    "        \n",
    "#         mse = nn.MSELoss()\n",
    "#         mse_loss = mse(y_pred,y)\n",
    "#         l1 = nn.L1Loss()\n",
    "#         l1_loss = l1(y_pred,y)\n",
    "        \n",
    "        mse = nn.MSELoss(reduction='none')\n",
    "        mse_loss = (mse(y_pred,y)*weight/weight.sum()).sum()\n",
    "        l1 = nn.L1Loss(reduction='none')\n",
    "        l1_loss = (l1(y_pred,y)*weight/weight.sum()).sum()\n",
    "\n",
    "        self.log('train/loss',mse_loss,on_epoch=True)\n",
    "        self.log('train/lossl1',l1_loss,on_epoch=True)\n",
    "\n",
    "        return mse_loss\n",
    "    \n",
    "    def validation_step(self,batch,batch_idx):\n",
    "        gene, disease, y, weight = batch\n",
    "        y_pred = torch.flatten(self(gene, disease)).double()\n",
    "        \n",
    "#         mse = nn.MSELoss()\n",
    "#         mse_loss_val = mse(y_pred,y)\n",
    "#         l1 = nn.L1Loss()\n",
    "#         l1_loss_val = l1(y_pred,y)\n",
    "        \n",
    "        mse = nn.MSELoss(reduction='none')\n",
    "        mse_loss_val = (mse(y_pred,y)*weight/weight.sum()).sum()        \n",
    "        l1 = nn.L1Loss(reduction='none')\n",
    "        l1_loss_val = (l1(y_pred,y)*weight/weight.sum()).sum()\n",
    "        \n",
    "        self.log('valid/loss',mse_loss_val,on_epoch=True)\n",
    "        self.log('valid/lossl1',l1_loss_val,on_epoch=True)\n",
    "        \n",
    "        return mse_loss_val\n",
    "    \n",
    "    def test_step(self,batch,batch_idx):\n",
    "        gene, disease, y, weight = batch\n",
    "        y_pred = torch.flatten(self(gene, disease)).double()\n",
    "        \n",
    "#         mse = nn.MSELoss()\n",
    "#         mse_loss_test = mse(y_pred,y)\n",
    "#         l1 = nn.L1Loss()\n",
    "#         l1_loss_test = l1(y_pred,y)\n",
    "        \n",
    "        mse = nn.MSELoss(reduction='none')\n",
    "        mse_loss_test = (mse(y_pred,y)*weight/weight.sum()).sum()        \n",
    "        l1 = nn.L1Loss(reduction='none')\n",
    "        l1_loss_test = (l1(y_pred,y)*weight/weight.sum()).sum()\n",
    "        \n",
    "        self.log('test/loss',mse_loss_test,on_epoch=True)\n",
    "        self.log('test/lossl1',l1_loss_test,on_epoch=True)\n",
    "        \n",
    "        return mse_loss_test\n",
    "    \n",
    "    def configure_optimizers(self):\n",
    "        return optim.Adam(self.parameters(), lr=self.lr)\n",
    "    \n",
    "    def predict_step(self,batch,batch_idx):\n",
    "        gene, disease, y, weight = batch\n",
    "        return self(gene,disease)"
   ]
  },
  {
   "cell_type": "code",
   "execution_count": 234,
   "id": "271bfc0a",
   "metadata": {},
   "outputs": [],
   "source": [
    "def plot(testloss, predictions, truevals, savename, title):\n",
    "    plt.figure(figsize=(6,4))\n",
    "    plt.scatter(truevals,predictions,marker='.',color='black')\n",
    "    plt.xlabel('True')\n",
    "    plt.ylabel('Predicted')\n",
    "    plt.title(f'{title}, MSE loss={testloss}')\n",
    "    plt.xlim(0.0,1.)\n",
    "    plt.ylim(0.0,1.)\n",
    "    plt.savefig(f'{savename}.png',dpi=200)"
   ]
  },
  {
   "cell_type": "code",
   "execution_count": 235,
   "id": "8f7df98b",
   "metadata": {
    "scrolled": true
   },
   "outputs": [
    {
     "name": "stderr",
     "output_type": "stream",
     "text": [
      "GPU available: True (cuda), used: True\n",
      "TPU available: False, using: 0 TPU cores\n",
      "IPU available: False, using: 0 IPUs\n",
      "HPU available: False, using: 0 HPUs\n",
      "LOCAL_RANK: 0 - CUDA_VISIBLE_DEVICES: [0]\n",
      "\n",
      "  | Name | Type   | Params\n",
      "--------------------------------\n",
      "0 | lng1 | Linear | 5.1 K \n",
      "1 | relu | ReLU   | 0     \n",
      "2 | lnd1 | Linear | 84    \n",
      "3 | lnc  | Linear | 9     \n",
      "--------------------------------\n",
      "5.2 K     Trainable params\n",
      "0         Non-trainable params\n",
      "5.2 K     Total params\n",
      "0.021     Total estimated model params size (MB)\n"
     ]
    },
    {
     "data": {
      "application/vnd.jupyter.widget-view+json": {
       "model_id": "",
       "version_major": 2,
       "version_minor": 0
      },
      "text/plain": [
       "Sanity Checking: 0it [00:00, ?it/s]"
      ]
     },
     "metadata": {},
     "output_type": "display_data"
    },
    {
     "data": {
      "application/vnd.jupyter.widget-view+json": {
       "model_id": "d9a9e107e3f24afaa612ab582b09857a",
       "version_major": 2,
       "version_minor": 0
      },
      "text/plain": [
       "Training: 0it [00:00, ?it/s]"
      ]
     },
     "metadata": {},
     "output_type": "display_data"
    },
    {
     "data": {
      "application/vnd.jupyter.widget-view+json": {
       "model_id": "",
       "version_major": 2,
       "version_minor": 0
      },
      "text/plain": [
       "Validation: 0it [00:00, ?it/s]"
      ]
     },
     "metadata": {},
     "output_type": "display_data"
    },
    {
     "name": "stderr",
     "output_type": "stream",
     "text": [
      "Metric valid/loss improved. New best score: 0.058\n"
     ]
    },
    {
     "data": {
      "application/vnd.jupyter.widget-view+json": {
       "model_id": "",
       "version_major": 2,
       "version_minor": 0
      },
      "text/plain": [
       "Validation: 0it [00:00, ?it/s]"
      ]
     },
     "metadata": {},
     "output_type": "display_data"
    },
    {
     "name": "stderr",
     "output_type": "stream",
     "text": [
      "Metric valid/loss improved by 0.003 >= min_delta = 0.0. New best score: 0.055\n"
     ]
    },
    {
     "data": {
      "application/vnd.jupyter.widget-view+json": {
       "model_id": "",
       "version_major": 2,
       "version_minor": 0
      },
      "text/plain": [
       "Validation: 0it [00:00, ?it/s]"
      ]
     },
     "metadata": {},
     "output_type": "display_data"
    },
    {
     "name": "stderr",
     "output_type": "stream",
     "text": [
      "Metric valid/loss improved by 0.001 >= min_delta = 0.0. New best score: 0.054\n"
     ]
    },
    {
     "data": {
      "application/vnd.jupyter.widget-view+json": {
       "model_id": "",
       "version_major": 2,
       "version_minor": 0
      },
      "text/plain": [
       "Validation: 0it [00:00, ?it/s]"
      ]
     },
     "metadata": {},
     "output_type": "display_data"
    },
    {
     "name": "stderr",
     "output_type": "stream",
     "text": [
      "Metric valid/loss improved by 0.000 >= min_delta = 0.0. New best score: 0.054\n"
     ]
    },
    {
     "data": {
      "application/vnd.jupyter.widget-view+json": {
       "model_id": "",
       "version_major": 2,
       "version_minor": 0
      },
      "text/plain": [
       "Validation: 0it [00:00, ?it/s]"
      ]
     },
     "metadata": {},
     "output_type": "display_data"
    },
    {
     "data": {
      "application/vnd.jupyter.widget-view+json": {
       "model_id": "",
       "version_major": 2,
       "version_minor": 0
      },
      "text/plain": [
       "Validation: 0it [00:00, ?it/s]"
      ]
     },
     "metadata": {},
     "output_type": "display_data"
    },
    {
     "name": "stderr",
     "output_type": "stream",
     "text": [
      "Metric valid/loss improved by 0.000 >= min_delta = 0.0. New best score: 0.053\n"
     ]
    },
    {
     "data": {
      "application/vnd.jupyter.widget-view+json": {
       "model_id": "",
       "version_major": 2,
       "version_minor": 0
      },
      "text/plain": [
       "Validation: 0it [00:00, ?it/s]"
      ]
     },
     "metadata": {},
     "output_type": "display_data"
    },
    {
     "name": "stderr",
     "output_type": "stream",
     "text": [
      "Metric valid/loss improved by 0.000 >= min_delta = 0.0. New best score: 0.053\n"
     ]
    },
    {
     "data": {
      "application/vnd.jupyter.widget-view+json": {
       "model_id": "",
       "version_major": 2,
       "version_minor": 0
      },
      "text/plain": [
       "Validation: 0it [00:00, ?it/s]"
      ]
     },
     "metadata": {},
     "output_type": "display_data"
    },
    {
     "name": "stderr",
     "output_type": "stream",
     "text": [
      "Metric valid/loss improved by 0.000 >= min_delta = 0.0. New best score: 0.053\n"
     ]
    },
    {
     "data": {
      "application/vnd.jupyter.widget-view+json": {
       "model_id": "",
       "version_major": 2,
       "version_minor": 0
      },
      "text/plain": [
       "Validation: 0it [00:00, ?it/s]"
      ]
     },
     "metadata": {},
     "output_type": "display_data"
    },
    {
     "data": {
      "application/vnd.jupyter.widget-view+json": {
       "model_id": "",
       "version_major": 2,
       "version_minor": 0
      },
      "text/plain": [
       "Validation: 0it [00:00, ?it/s]"
      ]
     },
     "metadata": {},
     "output_type": "display_data"
    },
    {
     "name": "stderr",
     "output_type": "stream",
     "text": [
      "Metric valid/loss improved by 0.001 >= min_delta = 0.0. New best score: 0.053\n"
     ]
    },
    {
     "data": {
      "application/vnd.jupyter.widget-view+json": {
       "model_id": "",
       "version_major": 2,
       "version_minor": 0
      },
      "text/plain": [
       "Validation: 0it [00:00, ?it/s]"
      ]
     },
     "metadata": {},
     "output_type": "display_data"
    },
    {
     "data": {
      "application/vnd.jupyter.widget-view+json": {
       "model_id": "",
       "version_major": 2,
       "version_minor": 0
      },
      "text/plain": [
       "Validation: 0it [00:00, ?it/s]"
      ]
     },
     "metadata": {},
     "output_type": "display_data"
    },
    {
     "data": {
      "application/vnd.jupyter.widget-view+json": {
       "model_id": "",
       "version_major": 2,
       "version_minor": 0
      },
      "text/plain": [
       "Validation: 0it [00:00, ?it/s]"
      ]
     },
     "metadata": {},
     "output_type": "display_data"
    },
    {
     "name": "stderr",
     "output_type": "stream",
     "text": [
      "Metric valid/loss improved by 0.000 >= min_delta = 0.0. New best score: 0.053\n"
     ]
    },
    {
     "data": {
      "application/vnd.jupyter.widget-view+json": {
       "model_id": "",
       "version_major": 2,
       "version_minor": 0
      },
      "text/plain": [
       "Validation: 0it [00:00, ?it/s]"
      ]
     },
     "metadata": {},
     "output_type": "display_data"
    },
    {
     "data": {
      "application/vnd.jupyter.widget-view+json": {
       "model_id": "",
       "version_major": 2,
       "version_minor": 0
      },
      "text/plain": [
       "Validation: 0it [00:00, ?it/s]"
      ]
     },
     "metadata": {},
     "output_type": "display_data"
    },
    {
     "data": {
      "application/vnd.jupyter.widget-view+json": {
       "model_id": "",
       "version_major": 2,
       "version_minor": 0
      },
      "text/plain": [
       "Validation: 0it [00:00, ?it/s]"
      ]
     },
     "metadata": {},
     "output_type": "display_data"
    },
    {
     "name": "stderr",
     "output_type": "stream",
     "text": [
      "Metric valid/loss improved by 0.000 >= min_delta = 0.0. New best score: 0.052\n"
     ]
    },
    {
     "data": {
      "application/vnd.jupyter.widget-view+json": {
       "model_id": "",
       "version_major": 2,
       "version_minor": 0
      },
      "text/plain": [
       "Validation: 0it [00:00, ?it/s]"
      ]
     },
     "metadata": {},
     "output_type": "display_data"
    },
    {
     "data": {
      "application/vnd.jupyter.widget-view+json": {
       "model_id": "",
       "version_major": 2,
       "version_minor": 0
      },
      "text/plain": [
       "Validation: 0it [00:00, ?it/s]"
      ]
     },
     "metadata": {},
     "output_type": "display_data"
    },
    {
     "data": {
      "application/vnd.jupyter.widget-view+json": {
       "model_id": "",
       "version_major": 2,
       "version_minor": 0
      },
      "text/plain": [
       "Validation: 0it [00:00, ?it/s]"
      ]
     },
     "metadata": {},
     "output_type": "display_data"
    },
    {
     "name": "stderr",
     "output_type": "stream",
     "text": [
      "Metric valid/loss improved by 0.000 >= min_delta = 0.0. New best score: 0.052\n"
     ]
    },
    {
     "data": {
      "application/vnd.jupyter.widget-view+json": {
       "model_id": "",
       "version_major": 2,
       "version_minor": 0
      },
      "text/plain": [
       "Validation: 0it [00:00, ?it/s]"
      ]
     },
     "metadata": {},
     "output_type": "display_data"
    },
    {
     "data": {
      "application/vnd.jupyter.widget-view+json": {
       "model_id": "",
       "version_major": 2,
       "version_minor": 0
      },
      "text/plain": [
       "Validation: 0it [00:00, ?it/s]"
      ]
     },
     "metadata": {},
     "output_type": "display_data"
    },
    {
     "data": {
      "application/vnd.jupyter.widget-view+json": {
       "model_id": "",
       "version_major": 2,
       "version_minor": 0
      },
      "text/plain": [
       "Validation: 0it [00:00, ?it/s]"
      ]
     },
     "metadata": {},
     "output_type": "display_data"
    },
    {
     "data": {
      "application/vnd.jupyter.widget-view+json": {
       "model_id": "",
       "version_major": 2,
       "version_minor": 0
      },
      "text/plain": [
       "Validation: 0it [00:00, ?it/s]"
      ]
     },
     "metadata": {},
     "output_type": "display_data"
    },
    {
     "data": {
      "application/vnd.jupyter.widget-view+json": {
       "model_id": "",
       "version_major": 2,
       "version_minor": 0
      },
      "text/plain": [
       "Validation: 0it [00:00, ?it/s]"
      ]
     },
     "metadata": {},
     "output_type": "display_data"
    },
    {
     "data": {
      "application/vnd.jupyter.widget-view+json": {
       "model_id": "",
       "version_major": 2,
       "version_minor": 0
      },
      "text/plain": [
       "Validation: 0it [00:00, ?it/s]"
      ]
     },
     "metadata": {},
     "output_type": "display_data"
    },
    {
     "data": {
      "application/vnd.jupyter.widget-view+json": {
       "model_id": "",
       "version_major": 2,
       "version_minor": 0
      },
      "text/plain": [
       "Validation: 0it [00:00, ?it/s]"
      ]
     },
     "metadata": {},
     "output_type": "display_data"
    },
    {
     "name": "stderr",
     "output_type": "stream",
     "text": [
      "Monitored metric valid/loss did not improve in the last 7 records. Best score: 0.052. Signaling Trainer to stop.\n"
     ]
    }
   ],
   "source": [
    "logger = TensorBoardLogger(\"logs\",name=\"GDA_linear_weighted\")\n",
    "earlystop = EarlyStopping(monitor=\"valid/loss\", patience=7, verbose=True)\n",
    "model0 = GDALinear(lr=1e-3)\n",
    "trainer = pl.Trainer(accelerator=\"gpu\", devices=1, logger=logger, max_epochs=30, callbacks=earlystop)\n",
    "trainer.fit(model0, train_dataloaders=trainloader,val_dataloaders=valloader)"
   ]
  },
  {
   "cell_type": "code",
   "execution_count": 236,
   "id": "f9522d44",
   "metadata": {
    "scrolled": true
   },
   "outputs": [
    {
     "name": "stderr",
     "output_type": "stream",
     "text": [
      "LOCAL_RANK: 0 - CUDA_VISIBLE_DEVICES: [0]\n"
     ]
    },
    {
     "data": {
      "application/vnd.jupyter.widget-view+json": {
       "model_id": "7192b93fe2934acc8ba033bc6633dd0d",
       "version_major": 2,
       "version_minor": 0
      },
      "text/plain": [
       "Testing: 0it [00:00, ?it/s]"
      ]
     },
     "metadata": {},
     "output_type": "display_data"
    },
    {
     "name": "stderr",
     "output_type": "stream",
     "text": [
      "LOCAL_RANK: 0 - CUDA_VISIBLE_DEVICES: [0]\n"
     ]
    },
    {
     "name": "stdout",
     "output_type": "stream",
     "text": [
      "────────────────────────────────────────────────────────────────────────────────────────────────────────────────────────\n",
      "       Test metric             DataLoader 0\n",
      "────────────────────────────────────────────────────────────────────────────────────────────────────────────────────────\n",
      "        test/loss          0.051790416608348176\n",
      "       test/lossl1          0.1917481763756154\n",
      "────────────────────────────────────────────────────────────────────────────────────────────────────────────────────────\n"
     ]
    },
    {
     "data": {
      "application/vnd.jupyter.widget-view+json": {
       "model_id": "4e0eb873909149288e3a9def0f824d9c",
       "version_major": 2,
       "version_minor": 0
      },
      "text/plain": [
       "Predicting: 574it [00:00, ?it/s]"
      ]
     },
     "metadata": {},
     "output_type": "display_data"
    }
   ],
   "source": [
    "out = trainer.test(model0, dataloaders=testloader)\n",
    "ypreds0 = trainer.predict(model0,dataloaders=predictloader)"
   ]
  },
  {
   "cell_type": "code",
   "execution_count": 237,
   "id": "f3100ac6",
   "metadata": {
    "scrolled": true
   },
   "outputs": [
    {
     "data": {
      "image/png": "[encoded data removed]",
      "text/plain": [
       "<Figure size 600x400 with 1 Axes>"
      ]
     },
     "metadata": {},
     "output_type": "display_data"
    }
   ],
   "source": [
    "plot(out[0]['test/loss'], torch.tensor(ypreds0).numpy(), testdf['Y'], 'linear_final_weight_1','Linear model')"
   ]
  },
  {
   "cell_type": "code",
   "execution_count": 238,
   "id": "3d554d53",
   "metadata": {},
   "outputs": [
    {
     "name": "stdout",
     "output_type": "stream",
     "text": [
      "Accuracy considering prediction to be within 0.1 is 20.23%\n"
     ]
    }
   ],
   "source": [
    "accurate = 0\n",
    "for j,pred in enumerate(torch.tensor(ypreds0).numpy()):\n",
    "    if np.abs(testdf.loc[j,'Y'] - pred) < 0.1:\n",
    "        accurate += 1\n",
    "print(f'Accuracy considering prediction to be within 0.1 is {np.round(100*accurate/len(testdf),2)}%')"
   ]
  },
  {
   "cell_type": "markdown",
   "id": "fe85b26f",
   "metadata": {},
   "source": [
    "## Simple CNN model, Regression"
   ]
  },
  {
   "cell_type": "code",
   "execution_count": 213,
   "id": "71f08c8d",
   "metadata": {},
   "outputs": [],
   "source": [
    "def conv_block(inp_size, out_size, kernel_size):\n",
    "    block = nn.Sequential(\n",
    "            nn.Conv1d(inp_size, out_size, kernel_size),\n",
    "            nn.BatchNorm1d(out_size),\n",
    "            nn.ReLU(),\n",
    "            nn.MaxPool1d(2)\n",
    "    )\n",
    "    return block\n",
    "\n",
    "class GDARegression(pl.LightningModule):\n",
    "    def __init__(self, lr=1e-3, num_workers=4):\n",
    "        super().__init__()\n",
    "        self.lr = lr\n",
    "        self.num_workers = num_workers\n",
    "        \n",
    "        self.convg1 = conv_block(1,16,5)\n",
    "        self.convg2 = conv_block(16,32,5)\n",
    "        self.convg3 = conv_block(32,16,3)\n",
    "        self.lng1 = nn.Linear(16*157,256)\n",
    "        self.relu = nn.ReLU()\n",
    "        self.dropout2 = nn.Dropout(0.2)\n",
    "        self.dropout5 = nn.Dropout(0.5)\n",
    "        self.dropout8 = nn.Dropout(0.8)\n",
    "        self.lng2 = nn.Linear(256,64)\n",
    "        self.lng3 = nn.Linear(64,16)\n",
    "        \n",
    "        self.convd1 = conv_block(1,8,5)\n",
    "        self.convd2 = conv_block(8,16,3)\n",
    "        self.lnd1 = nn.Linear(16*3,32)\n",
    "        self.lnd2 = nn.Linear(32,16)\n",
    "        \n",
    "        self.lnc = nn.Linear(32,1)\n",
    "        \n",
    "    def forward(self, gene, disease):\n",
    "        g = self.convg1(gene)\n",
    "        g = self.convg2(g)\n",
    "        g = self.convg3(g)\n",
    "        g = g.reshape(g.shape[0],-1)\n",
    "        g = self.lng1(g)\n",
    "        g = self.relu(g)\n",
    "        g = self.lng2(g)\n",
    "        g = self.relu(g)\n",
    "        g = self.lng3(g)\n",
    "        g = self.relu(g)\n",
    "#         print(g.shape)\n",
    "        \n",
    "        d = self.convd1(disease)\n",
    "        d = self.convd2(d)\n",
    "        d = d.reshape(d.shape[0],-1)\n",
    "        d = self.lnd1(d)\n",
    "        d = self.relu(d)\n",
    "        d = self.lnd2(d)\n",
    "        d = self.relu(d)\n",
    "        \n",
    "#         print(d.shape)\n",
    "        x = torch.cat((g,d),dim=1)\n",
    "        x = self.relu(x)\n",
    "        x = self.lnc(x)\n",
    "#         print(x.shape)\n",
    "        return x\n",
    "    \n",
    "    def training_step(self,batch,batch_idx):\n",
    "        gene, disease, y, weight = batch\n",
    "        y_pred = torch.flatten(self(gene, disease)).double()\n",
    "        \n",
    "#         mse = nn.MSELoss()\n",
    "#         mse_loss = mse(y_pred,y)\n",
    "#         l1 = nn.L1Loss()\n",
    "#         l1_loss = l1(y_pred,y)\n",
    "        \n",
    "        mse = nn.MSELoss(reduction='none')\n",
    "        mse_loss = (mse(y_pred,y)*weight).sum()\n",
    "        l1 = nn.L1Loss(reduction='none')\n",
    "        l1_loss = (l1(y_pred,y)*weight).sum()\n",
    "\n",
    "        self.log('train/loss',mse_loss,on_epoch=True)\n",
    "        self.log('train/lossl1',l1_loss,on_epoch=True)\n",
    "        return mse_loss\n",
    "    \n",
    "    def validation_step(self,batch,batch_idx):\n",
    "        gene, disease, y, weight = batch\n",
    "        y_pred = torch.flatten(self(gene, disease)).double()\n",
    "        \n",
    "#         mse = nn.MSELoss()\n",
    "#         mse_loss_val = mse(y_pred,y)\n",
    "#         l1 = nn.L1Loss()\n",
    "#         l1_loss_val = l1(y_pred,y)\n",
    "        \n",
    "        mse = nn.MSELoss(reduction='none')\n",
    "        mse_loss_val = (mse(y_pred,y)*weight).sum()        \n",
    "        l1 = nn.L1Loss(reduction='none')\n",
    "        l1_loss_val = (l1(y_pred,y)*weight).sum()\n",
    "        \n",
    "        self.log('valid/loss',mse_loss_val,on_epoch=True)\n",
    "        self.log('valid/lossl1',l1_loss_val,on_epoch=True)\n",
    "        \n",
    "        return mse_loss_val\n",
    "    \n",
    "    def test_step(self,batch,batch_idx):\n",
    "        gene, disease, y, weight = batch\n",
    "        y_pred = torch.flatten(self(gene, disease)).double()\n",
    "        \n",
    "#         mse = nn.MSELoss()\n",
    "#         mse_loss_test = mse(y_pred,y)\n",
    "#         l1 = nn.L1Loss()\n",
    "#         l1_loss_test = l1(y_pred,y)\n",
    "        \n",
    "        mse = nn.MSELoss(reduction='none')\n",
    "        mse_loss_test = (mse(y_pred,y)*weight).sum()        \n",
    "        l1 = nn.L1Loss(reduction='none')\n",
    "        l1_loss_test = (l1(y_pred,y)*weight).sum()\n",
    "        \n",
    "        self.log('test/loss',mse_loss_test,on_epoch=True)\n",
    "        self.log('test/lossl1',l1_loss_test,on_epoch=True)\n",
    "        \n",
    "        return mse_loss_test\n",
    "\n",
    "    def configure_optimizers(self):\n",
    "        return optim.Adam(self.parameters(), lr=self.lr)\n",
    "    \n",
    "    def predict_step(self,batch,batch_idx):\n",
    "        gene, disease, y, weight = batch\n",
    "        return self(gene,disease)"
   ]
  },
  {
   "cell_type": "code",
   "execution_count": 239,
   "id": "8eeaa9cc",
   "metadata": {},
   "outputs": [],
   "source": [
    "trainset0 = GDPair(traindf,datatype='train',load_from_save=True)\n",
    "valset0 = GDPair(valdf,datatype='val',load_from_save=True)\n",
    "testset0 = GDPair(testdf,datatype='test',load_from_save=True)\n",
    "\n",
    "trainloader0 = DataLoader(trainset0, batch_size=64, shuffle=True)\n",
    "valloader0 = DataLoader(valset0, batch_size=64)\n",
    "testloader0 = DataLoader(testset0, batch_size=64)\n",
    "predictloader0 = DataLoader(testset0, batch_size=1)"
   ]
  },
  {
   "cell_type": "code",
   "execution_count": 240,
   "id": "431f29d2",
   "metadata": {},
   "outputs": [
    {
     "name": "stderr",
     "output_type": "stream",
     "text": [
      "GPU available: True (cuda), used: True\n",
      "TPU available: False, using: 0 TPU cores\n",
      "IPU available: False, using: 0 IPUs\n",
      "HPU available: False, using: 0 HPUs\n",
      "LOCAL_RANK: 0 - CUDA_VISIBLE_DEVICES: [0]\n",
      "\n",
      "   | Name     | Type       | Params\n",
      "-----------------------------------------\n",
      "0  | convg1   | Sequential | 128   \n",
      "1  | convg2   | Sequential | 2.7 K \n",
      "2  | convg3   | Sequential | 1.6 K \n",
      "3  | lng1     | Linear     | 643 K \n",
      "4  | relu     | ReLU       | 0     \n",
      "5  | dropout2 | Dropout    | 0     \n",
      "6  | dropout5 | Dropout    | 0     \n",
      "7  | dropout8 | Dropout    | 0     \n",
      "8  | lng2     | Linear     | 16.4 K\n",
      "9  | lng3     | Linear     | 1.0 K \n",
      "10 | convd1   | Sequential | 64    \n",
      "11 | convd2   | Sequential | 432   \n",
      "12 | lnd1     | Linear     | 1.6 K \n",
      "13 | lnd2     | Linear     | 528   \n",
      "14 | lnc      | Linear     | 33    \n",
      "-----------------------------------------\n",
      "667 K     Trainable params\n",
      "0         Non-trainable params\n",
      "667 K     Total params\n",
      "2.671     Total estimated model params size (MB)\n"
     ]
    },
    {
     "data": {
      "application/vnd.jupyter.widget-view+json": {
       "model_id": "",
       "version_major": 2,
       "version_minor": 0
      },
      "text/plain": [
       "Sanity Checking: 0it [00:00, ?it/s]"
      ]
     },
     "metadata": {},
     "output_type": "display_data"
    },
    {
     "data": {
      "application/vnd.jupyter.widget-view+json": {
       "model_id": "7014984b3cd8444bb194c127cb319da5",
       "version_major": 2,
       "version_minor": 0
      },
      "text/plain": [
       "Training: 0it [00:00, ?it/s]"
      ]
     },
     "metadata": {},
     "output_type": "display_data"
    },
    {
     "data": {
      "application/vnd.jupyter.widget-view+json": {
       "model_id": "",
       "version_major": 2,
       "version_minor": 0
      },
      "text/plain": [
       "Validation: 0it [00:00, ?it/s]"
      ]
     },
     "metadata": {},
     "output_type": "display_data"
    },
    {
     "name": "stderr",
     "output_type": "stream",
     "text": [
      "Metric valid/loss improved. New best score: 2.727\n"
     ]
    },
    {
     "data": {
      "application/vnd.jupyter.widget-view+json": {
       "model_id": "",
       "version_major": 2,
       "version_minor": 0
      },
      "text/plain": [
       "Validation: 0it [00:00, ?it/s]"
      ]
     },
     "metadata": {},
     "output_type": "display_data"
    },
    {
     "name": "stderr",
     "output_type": "stream",
     "text": [
      "Metric valid/loss improved by 0.005 >= min_delta = 0.0. New best score: 2.722\n"
     ]
    },
    {
     "data": {
      "application/vnd.jupyter.widget-view+json": {
       "model_id": "",
       "version_major": 2,
       "version_minor": 0
      },
      "text/plain": [
       "Validation: 0it [00:00, ?it/s]"
      ]
     },
     "metadata": {},
     "output_type": "display_data"
    },
    {
     "name": "stderr",
     "output_type": "stream",
     "text": [
      "Metric valid/loss improved by 0.030 >= min_delta = 0.0. New best score: 2.692\n"
     ]
    },
    {
     "data": {
      "application/vnd.jupyter.widget-view+json": {
       "model_id": "",
       "version_major": 2,
       "version_minor": 0
      },
      "text/plain": [
       "Validation: 0it [00:00, ?it/s]"
      ]
     },
     "metadata": {},
     "output_type": "display_data"
    },
    {
     "name": "stderr",
     "output_type": "stream",
     "text": [
      "Metric valid/loss improved by 0.010 >= min_delta = 0.0. New best score: 2.682\n"
     ]
    },
    {
     "data": {
      "application/vnd.jupyter.widget-view+json": {
       "model_id": "",
       "version_major": 2,
       "version_minor": 0
      },
      "text/plain": [
       "Validation: 0it [00:00, ?it/s]"
      ]
     },
     "metadata": {},
     "output_type": "display_data"
    },
    {
     "data": {
      "application/vnd.jupyter.widget-view+json": {
       "model_id": "",
       "version_major": 2,
       "version_minor": 0
      },
      "text/plain": [
       "Validation: 0it [00:00, ?it/s]"
      ]
     },
     "metadata": {},
     "output_type": "display_data"
    },
    {
     "data": {
      "application/vnd.jupyter.widget-view+json": {
       "model_id": "",
       "version_major": 2,
       "version_minor": 0
      },
      "text/plain": [
       "Validation: 0it [00:00, ?it/s]"
      ]
     },
     "metadata": {},
     "output_type": "display_data"
    },
    {
     "name": "stderr",
     "output_type": "stream",
     "text": [
      "Metric valid/loss improved by 0.073 >= min_delta = 0.0. New best score: 2.608\n"
     ]
    },
    {
     "data": {
      "application/vnd.jupyter.widget-view+json": {
       "model_id": "",
       "version_major": 2,
       "version_minor": 0
      },
      "text/plain": [
       "Validation: 0it [00:00, ?it/s]"
      ]
     },
     "metadata": {},
     "output_type": "display_data"
    },
    {
     "name": "stderr",
     "output_type": "stream",
     "text": [
      "Metric valid/loss improved by 0.025 >= min_delta = 0.0. New best score: 2.584\n"
     ]
    },
    {
     "data": {
      "application/vnd.jupyter.widget-view+json": {
       "model_id": "",
       "version_major": 2,
       "version_minor": 0
      },
      "text/plain": [
       "Validation: 0it [00:00, ?it/s]"
      ]
     },
     "metadata": {},
     "output_type": "display_data"
    },
    {
     "name": "stderr",
     "output_type": "stream",
     "text": [
      "Metric valid/loss improved by 0.096 >= min_delta = 0.0. New best score: 2.488\n"
     ]
    },
    {
     "data": {
      "application/vnd.jupyter.widget-view+json": {
       "model_id": "",
       "version_major": 2,
       "version_minor": 0
      },
      "text/plain": [
       "Validation: 0it [00:00, ?it/s]"
      ]
     },
     "metadata": {},
     "output_type": "display_data"
    },
    {
     "data": {
      "application/vnd.jupyter.widget-view+json": {
       "model_id": "",
       "version_major": 2,
       "version_minor": 0
      },
      "text/plain": [
       "Validation: 0it [00:00, ?it/s]"
      ]
     },
     "metadata": {},
     "output_type": "display_data"
    },
    {
     "data": {
      "application/vnd.jupyter.widget-view+json": {
       "model_id": "",
       "version_major": 2,
       "version_minor": 0
      },
      "text/plain": [
       "Validation: 0it [00:00, ?it/s]"
      ]
     },
     "metadata": {},
     "output_type": "display_data"
    },
    {
     "data": {
      "application/vnd.jupyter.widget-view+json": {
       "model_id": "",
       "version_major": 2,
       "version_minor": 0
      },
      "text/plain": [
       "Validation: 0it [00:00, ?it/s]"
      ]
     },
     "metadata": {},
     "output_type": "display_data"
    },
    {
     "data": {
      "application/vnd.jupyter.widget-view+json": {
       "model_id": "",
       "version_major": 2,
       "version_minor": 0
      },
      "text/plain": [
       "Validation: 0it [00:00, ?it/s]"
      ]
     },
     "metadata": {},
     "output_type": "display_data"
    },
    {
     "name": "stderr",
     "output_type": "stream",
     "text": [
      "Metric valid/loss improved by 0.001 >= min_delta = 0.0. New best score: 2.487\n"
     ]
    },
    {
     "data": {
      "application/vnd.jupyter.widget-view+json": {
       "model_id": "",
       "version_major": 2,
       "version_minor": 0
      },
      "text/plain": [
       "Validation: 0it [00:00, ?it/s]"
      ]
     },
     "metadata": {},
     "output_type": "display_data"
    },
    {
     "data": {
      "application/vnd.jupyter.widget-view+json": {
       "model_id": "",
       "version_major": 2,
       "version_minor": 0
      },
      "text/plain": [
       "Validation: 0it [00:00, ?it/s]"
      ]
     },
     "metadata": {},
     "output_type": "display_data"
    },
    {
     "data": {
      "application/vnd.jupyter.widget-view+json": {
       "model_id": "",
       "version_major": 2,
       "version_minor": 0
      },
      "text/plain": [
       "Validation: 0it [00:00, ?it/s]"
      ]
     },
     "metadata": {},
     "output_type": "display_data"
    },
    {
     "data": {
      "application/vnd.jupyter.widget-view+json": {
       "model_id": "",
       "version_major": 2,
       "version_minor": 0
      },
      "text/plain": [
       "Validation: 0it [00:00, ?it/s]"
      ]
     },
     "metadata": {},
     "output_type": "display_data"
    },
    {
     "data": {
      "application/vnd.jupyter.widget-view+json": {
       "model_id": "",
       "version_major": 2,
       "version_minor": 0
      },
      "text/plain": [
       "Validation: 0it [00:00, ?it/s]"
      ]
     },
     "metadata": {},
     "output_type": "display_data"
    },
    {
     "data": {
      "application/vnd.jupyter.widget-view+json": {
       "model_id": "",
       "version_major": 2,
       "version_minor": 0
      },
      "text/plain": [
       "Validation: 0it [00:00, ?it/s]"
      ]
     },
     "metadata": {},
     "output_type": "display_data"
    },
    {
     "data": {
      "application/vnd.jupyter.widget-view+json": {
       "model_id": "",
       "version_major": 2,
       "version_minor": 0
      },
      "text/plain": [
       "Validation: 0it [00:00, ?it/s]"
      ]
     },
     "metadata": {},
     "output_type": "display_data"
    },
    {
     "name": "stderr",
     "output_type": "stream",
     "text": [
      "Monitored metric valid/loss did not improve in the last 7 records. Best score: 2.487. Signaling Trainer to stop.\n"
     ]
    }
   ],
   "source": [
    "logger = TensorBoardLogger(\"logs\",name=\"GDA_CNN\")\n",
    "earlystop = EarlyStopping(monitor=\"valid/loss\", patience=7, verbose=True)\n",
    "model = GDARegression(lr=1e-3)\n",
    "trainer = pl.Trainer(accelerator=\"gpu\", devices=1, logger=logger, max_epochs=30, callbacks=earlystop)\n",
    "trainer.fit(model, train_dataloaders=trainloader0,val_dataloaders=valloader0)"
   ]
  },
  {
   "cell_type": "code",
   "execution_count": 241,
   "id": "56b7eb4e",
   "metadata": {},
   "outputs": [
    {
     "name": "stderr",
     "output_type": "stream",
     "text": [
      "LOCAL_RANK: 0 - CUDA_VISIBLE_DEVICES: [0]\n"
     ]
    },
    {
     "data": {
      "application/vnd.jupyter.widget-view+json": {
       "model_id": "9c0dee4ec32f486e8d514459b8b5ce25",
       "version_major": 2,
       "version_minor": 0
      },
      "text/plain": [
       "Testing: 0it [00:00, ?it/s]"
      ]
     },
     "metadata": {},
     "output_type": "display_data"
    },
    {
     "name": "stderr",
     "output_type": "stream",
     "text": [
      "LOCAL_RANK: 0 - CUDA_VISIBLE_DEVICES: [0]\n"
     ]
    },
    {
     "name": "stdout",
     "output_type": "stream",
     "text": [
      "────────────────────────────────────────────────────────────────────────────────────────────────────────────────────────\n",
      "       Test metric             DataLoader 0\n",
      "────────────────────────────────────────────────────────────────────────────────────────────────────────────────────────\n",
      "        test/loss            2.673361553372825\n",
      "       test/lossl1           9.415531071363755\n",
      "────────────────────────────────────────────────────────────────────────────────────────────────────────────────────────\n"
     ]
    },
    {
     "data": {
      "application/vnd.jupyter.widget-view+json": {
       "model_id": "2a00bf289fca4e32a3450205ab478821",
       "version_major": 2,
       "version_minor": 0
      },
      "text/plain": [
       "Predicting: 574it [00:00, ?it/s]"
      ]
     },
     "metadata": {},
     "output_type": "display_data"
    }
   ],
   "source": [
    "out = trainer.test(model, dataloaders=testloader0)\n",
    "ypreds = trainer.predict(model,dataloaders=predictloader0)"
   ]
  },
  {
   "cell_type": "code",
   "execution_count": 242,
   "id": "810da345",
   "metadata": {},
   "outputs": [
    {
     "data": {
      "image/png": "[encoded data removed]",
      "text/plain": [
       "<Figure size 600x400 with 1 Axes>"
      ]
     },
     "metadata": {},
     "output_type": "display_data"
    }
   ],
   "source": [
    "plot(out[0]['test/loss'], torch.tensor(ypreds).numpy(), testdf['Y'], 'cnn_final_weight_1', 'CNN model')"
   ]
  },
  {
   "cell_type": "code",
   "execution_count": 243,
   "id": "5cc3548d",
   "metadata": {},
   "outputs": [
    {
     "name": "stdout",
     "output_type": "stream",
     "text": [
      "Accuracy considering prediction to be within 0.1 is 0.40848022868032396\n"
     ]
    }
   ],
   "source": [
    "accurate = 0\n",
    "for j,pred in enumerate(torch.tensor(ypreds).numpy()):\n",
    "    if np.abs(testdf.loc[j,'Y'] - pred) < 0.1:\n",
    "        accurate += 1\n",
    "print(f'Accuracy considering prediction to be within 0.1 is {accurate/len(testdf)}')"
   ]
  },
  {
   "cell_type": "markdown",
   "id": "48e486a4",
   "metadata": {},
   "source": [
    "### As data labels are highly imbalanced, trying label distribution smoothening"
   ]
  },
  {
   "cell_type": "code",
   "execution_count": 219,
   "id": "c1ccf25a",
   "metadata": {},
   "outputs": [],
   "source": [
    "labels, counts = np.unique(trainset1.data['Y'],return_counts=True)"
   ]
  },
  {
   "cell_type": "code",
   "execution_count": 244,
   "id": "832a4c40",
   "metadata": {},
   "outputs": [],
   "source": [
    "from sklearn.neighbors import KernelDensity\n",
    "kde0 = KernelDensity(kernel='gaussian', bandwidth=0.01).fit(np.array(trainset1.data['Y']).reshape(-1,1))\n",
    "kde = KernelDensity(kernel='gaussian', bandwidth=0.1).fit(np.array(trainset1.data['Y']).reshape(-1,1))"
   ]
  },
  {
   "cell_type": "code",
   "execution_count": 256,
   "id": "0a015475",
   "metadata": {},
   "outputs": [
    {
     "data": {
      "image/png": "[encoded data removed]",
      "text/plain": [
       "<Figure size 600x300 with 1 Axes>"
      ]
     },
     "metadata": {},
     "output_type": "display_data"
    }
   ],
   "source": [
    "logdens0 = kde0.score_samples(np.arange(0.3,1.01,0.001).reshape(-1,1))\n",
    "logdens = kde.score_samples(np.arange(0.3,1.01,0.001).reshape(-1,1))\n",
    "\n",
    "plt.figure(figsize=(6,3))\n",
    "_ = plt.hist(trainset1.data['Y'],bins=70,density=True,alpha=0.7,label='Empirical label distribution')\n",
    "plt.plot(np.arange(0.3,1.01,0.001),np.exp(logdens0),color='red',lw=0.9,label='Gaussian KDE, bandwidth=0.01')\n",
    "plt.plot(np.arange(0.3,1.01,0.001),np.exp(logdens),color='black',lw=0.9,label='Gaussian KDE, bandwidth=0.1')\n",
    "plt.yscale('log')\n",
    "plt.xlabel('Continuous label range')\n",
    "plt.ylabel('Density')\n",
    "plt.legend(fontsize=9)\n",
    "plt.tight_layout()\n",
    "plt.savefig('kde.png',dpi=200)"
   ]
  },
  {
   "cell_type": "markdown",
   "id": "97cd0993",
   "metadata": {},
   "source": [
    "Adding above as sample weights to dataset class"
   ]
  },
  {
   "cell_type": "markdown",
   "id": "28183b27",
   "metadata": {},
   "source": [
    "**Notes** <br>\n",
    "lr=1e-3 is better than lr=1e-2 <br>\n",
    "batch size of 64 did better than batch size of 32 <br>\n",
    "batch normalization helped <br>\n",
    "dropout made things worse <br>\n",
    "batchnorm after linear didn't improve things <br>\n",
    "one less linear layer marginal improvement in loss curve <br>\n",
    "one more linear layer about the same <br>\n",
    "This data is terrible for training, I don't know how 'Y' is being calculated and it is weirdly centered around the 10ths<br>"
   ]
  },
  {
   "cell_type": "markdown",
   "id": "fd838f16",
   "metadata": {},
   "source": [
    "## CNN but Classifier"
   ]
  },
  {
   "cell_type": "code",
   "execution_count": 76,
   "id": "bbc151b0",
   "metadata": {},
   "outputs": [],
   "source": [
    "def conv_block(inp_size, out_size, kernel_size):\n",
    "    block = nn.Sequential(\n",
    "            nn.Conv1d(inp_size, out_size, kernel_size),\n",
    "            nn.BatchNorm1d(out_size),\n",
    "            nn.ReLU(),\n",
    "            nn.MaxPool1d(2)\n",
    "    )\n",
    "    return block\n",
    "\n",
    "class GDAClassification(pl.LightningModule):\n",
    "    def __init__(self, lr=1e-3, num_workers=4):\n",
    "        super().__init__()\n",
    "        self.lr = lr\n",
    "        self.num_workers = num_workers\n",
    "        \n",
    "        self.convg1 = conv_block(1,16,5)\n",
    "        self.convg2 = conv_block(16,32,5)\n",
    "        self.convg3 = conv_block(32,16,3)\n",
    "        self.lng1 = nn.Linear(16*157,256)\n",
    "        self.relu = nn.ReLU()\n",
    "        self.dropout2 = nn.Dropout(0.2)\n",
    "        self.dropout5 = nn.Dropout(0.5)\n",
    "        self.dropout8 = nn.Dropout(0.8)\n",
    "        self.lng2 = nn.Linear(256,64)\n",
    "        self.lng3 = nn.Linear(64,16)\n",
    "        \n",
    "        self.convd1 = conv_block(1,8,5)\n",
    "        self.convd2 = conv_block(8,16,3)\n",
    "        self.lnd1 = nn.Linear(16*3,32)\n",
    "        self.lnd2 = nn.Linear(32,16)\n",
    "        \n",
    "        self.lnc = nn.Linear(32,7)\n",
    "        self.accuracy = torchmetrics.Accuracy(task='multiclass',num_classes=7)\n",
    "        \n",
    "    def forward(self, gene, disease):\n",
    "        g = self.convg1(gene)\n",
    "        g = self.convg2(g)\n",
    "        g = self.convg3(g)\n",
    "        g = g.reshape(g.shape[0],-1)\n",
    "        g = self.lng1(g)\n",
    "        g = self.relu(g)\n",
    "        g = self.lng2(g)\n",
    "        g = self.relu(g)\n",
    "        g = self.lng3(g)\n",
    "        g = self.relu(g)\n",
    "#         print(g.shape)\n",
    "        \n",
    "        d = self.convd1(disease)\n",
    "        d = self.convd2(d)\n",
    "        d = d.reshape(d.shape[0],-1)\n",
    "        d = self.lnd1(d)\n",
    "        d = self.relu(d)\n",
    "        d = self.lnd2(d)\n",
    "        d = self.relu(d)\n",
    "        \n",
    "#         print(d.shape)\n",
    "        x = torch.cat((g,d),dim=1)\n",
    "        x = self.relu(x)\n",
    "        x = self.lnc(x)\n",
    "#         print(x.shape)\n",
    "        return  x\n",
    "    \n",
    "    def training_step(self,batch,batch_idx):\n",
    "        gene, disease, y = batch\n",
    "        y_pred = self(gene, disease)\n",
    "        \n",
    "        criterion = nn.CrossEntropyLoss()\n",
    "        loss = criterion(y_pred,y)\n",
    "        self.log('train/loss',loss,on_epoch=True)\n",
    "        \n",
    "        preds = torch.argmax(nn.functional.log_softmax(self(gene, disease)), dim=1)\n",
    "        acc = self.accuracy(preds, y)\n",
    "        self.log('train/accuracy',acc,on_epoch=True)\n",
    "        \n",
    "        return loss\n",
    "    \n",
    "    def validation_step(self,batch,batch_idx):\n",
    "        gene, disease, y = batch\n",
    "        y_pred = self(gene, disease)\n",
    "        \n",
    "        criterion = nn.CrossEntropyLoss()\n",
    "        val_loss = criterion(y_pred,y)\n",
    "        self.log('valid/loss',val_loss,on_epoch=True)\n",
    "        \n",
    "        preds = torch.argmax(nn.functional.log_softmax(self(gene, disease)), dim=1)\n",
    "        val_acc = self.accuracy(preds, y)\n",
    "        self.log('valid/accuracy',val_acc,on_epoch=True)\n",
    "\n",
    "        return val_loss\n",
    "    \n",
    "    def test_step(self,batch,batch_idx):\n",
    "        gene, disease, y = batch\n",
    "        y_pred = self(gene, disease)\n",
    "        \n",
    "        criterion = nn.CrossEntropyLoss()\n",
    "        test_loss = criterion(y_pred,y)\n",
    "        self.log('test/loss',test_loss,on_epoch=True)\n",
    "        \n",
    "        preds = torch.argmax(nn.functional.log_softmax(self(gene, disease)), dim=1)\n",
    "        test_acc = self.accuracy(preds, y)\n",
    "        self.log('test/accuracy',test_acc,on_epoch=True)\n",
    "        return test_loss\n",
    "\n",
    "    def configure_optimizers(self):\n",
    "        return optim.Adam(self.parameters(), lr=self.lr)\n",
    "    \n",
    "    def predict_step(self,batch,batch_idx):\n",
    "        gene, disease, y = batch\n",
    "        preds = torch.argmax(nn.functional.log_softmax(self(gene, disease)), dim=1)\n",
    "        return preds"
   ]
  },
  {
   "cell_type": "code",
   "execution_count": 67,
   "id": "0b379416",
   "metadata": {},
   "outputs": [],
   "source": [
    "trainset1 = GDPair(traindf,datatype='train',load_from_save=True,mode='cat')\n",
    "valset1 = GDPair(valdf,datatype='val',load_from_save=True,mode='cat')\n",
    "testset1 = GDPair(testdf,datatype='test',load_from_save=True,mode='cat')\n",
    "\n",
    "trainloader = DataLoader(trainset1, batch_size=64, shuffle=True)\n",
    "valloader = DataLoader(valset1, batch_size=64)\n",
    "testloader = DataLoader(testset1, batch_size=64)\n",
    "predictloader = DataLoader(testset1, batch_size=1)"
   ]
  },
  {
   "cell_type": "code",
   "execution_count": 87,
   "id": "822c33cf",
   "metadata": {},
   "outputs": [
    {
     "data": {
      "image/png": "[encoded data removed]",
      "text/plain": [
       "<Figure size 640x480 with 1 Axes>"
      ]
     },
     "metadata": {},
     "output_type": "display_data"
    }
   ],
   "source": [
    "labels, counts = np.unique(testset1.labels,return_counts=True)\n",
    "_ = plt.bar(labels,counts)"
   ]
  },
  {
   "cell_type": "code",
   "execution_count": 88,
   "id": "5f657972",
   "metadata": {},
   "outputs": [
    {
     "name": "stderr",
     "output_type": "stream",
     "text": [
      "GPU available: True (cuda), used: True\n",
      "TPU available: False, using: 0 TPU cores\n",
      "IPU available: False, using: 0 IPUs\n",
      "HPU available: False, using: 0 HPUs\n",
      "LOCAL_RANK: 0 - CUDA_VISIBLE_DEVICES: [0]\n",
      "\n",
      "   | Name     | Type               | Params\n",
      "-------------------------------------------------\n",
      "0  | convg1   | Sequential         | 128   \n",
      "1  | convg2   | Sequential         | 2.7 K \n",
      "2  | convg3   | Sequential         | 1.6 K \n",
      "3  | lng1     | Linear             | 643 K \n",
      "4  | relu     | ReLU               | 0     \n",
      "5  | dropout2 | Dropout            | 0     \n",
      "6  | dropout5 | Dropout            | 0     \n",
      "7  | dropout8 | Dropout            | 0     \n",
      "8  | lng2     | Linear             | 16.4 K\n",
      "9  | lng3     | Linear             | 1.0 K \n",
      "10 | convd1   | Sequential         | 64    \n",
      "11 | convd2   | Sequential         | 432   \n",
      "12 | lnd1     | Linear             | 1.6 K \n",
      "13 | lnd2     | Linear             | 528   \n",
      "14 | lnc      | Linear             | 231   \n",
      "15 | accuracy | MulticlassAccuracy | 0     \n",
      "-------------------------------------------------\n",
      "668 K     Trainable params\n",
      "0         Non-trainable params\n",
      "668 K     Total params\n",
      "2.672     Total estimated model params size (MB)\n"
     ]
    },
    {
     "data": {
      "application/vnd.jupyter.widget-view+json": {
       "model_id": "",
       "version_major": 2,
       "version_minor": 0
      },
      "text/plain": [
       "Sanity Checking: 0it [00:00, ?it/s]"
      ]
     },
     "metadata": {},
     "output_type": "display_data"
    },
    {
     "data": {
      "application/vnd.jupyter.widget-view+json": {
       "model_id": "2604502a085f461b9f821a1eecea9c45",
       "version_major": 2,
       "version_minor": 0
      },
      "text/plain": [
       "Training: 0it [00:00, ?it/s]"
      ]
     },
     "metadata": {},
     "output_type": "display_data"
    },
    {
     "data": {
      "application/vnd.jupyter.widget-view+json": {
       "model_id": "",
       "version_major": 2,
       "version_minor": 0
      },
      "text/plain": [
       "Validation: 0it [00:00, ?it/s]"
      ]
     },
     "metadata": {},
     "output_type": "display_data"
    },
    {
     "name": "stderr",
     "output_type": "stream",
     "text": [
      "Metric valid/loss improved. New best score: 0.939\n"
     ]
    },
    {
     "data": {
      "application/vnd.jupyter.widget-view+json": {
       "model_id": "",
       "version_major": 2,
       "version_minor": 0
      },
      "text/plain": [
       "Validation: 0it [00:00, ?it/s]"
      ]
     },
     "metadata": {},
     "output_type": "display_data"
    },
    {
     "name": "stderr",
     "output_type": "stream",
     "text": [
      "Metric valid/loss improved by 0.016 >= min_delta = 0.0. New best score: 0.923\n"
     ]
    },
    {
     "data": {
      "application/vnd.jupyter.widget-view+json": {
       "model_id": "",
       "version_major": 2,
       "version_minor": 0
      },
      "text/plain": [
       "Validation: 0it [00:00, ?it/s]"
      ]
     },
     "metadata": {},
     "output_type": "display_data"
    },
    {
     "name": "stderr",
     "output_type": "stream",
     "text": [
      "Metric valid/loss improved by 0.008 >= min_delta = 0.0. New best score: 0.915\n"
     ]
    },
    {
     "data": {
      "application/vnd.jupyter.widget-view+json": {
       "model_id": "",
       "version_major": 2,
       "version_minor": 0
      },
      "text/plain": [
       "Validation: 0it [00:00, ?it/s]"
      ]
     },
     "metadata": {},
     "output_type": "display_data"
    },
    {
     "data": {
      "application/vnd.jupyter.widget-view+json": {
       "model_id": "",
       "version_major": 2,
       "version_minor": 0
      },
      "text/plain": [
       "Validation: 0it [00:00, ?it/s]"
      ]
     },
     "metadata": {},
     "output_type": "display_data"
    },
    {
     "name": "stderr",
     "output_type": "stream",
     "text": [
      "Metric valid/loss improved by 0.002 >= min_delta = 0.0. New best score: 0.913\n"
     ]
    },
    {
     "data": {
      "application/vnd.jupyter.widget-view+json": {
       "model_id": "",
       "version_major": 2,
       "version_minor": 0
      },
      "text/plain": [
       "Validation: 0it [00:00, ?it/s]"
      ]
     },
     "metadata": {},
     "output_type": "display_data"
    },
    {
     "name": "stderr",
     "output_type": "stream",
     "text": [
      "Metric valid/loss improved by 0.012 >= min_delta = 0.0. New best score: 0.901\n"
     ]
    },
    {
     "data": {
      "application/vnd.jupyter.widget-view+json": {
       "model_id": "",
       "version_major": 2,
       "version_minor": 0
      },
      "text/plain": [
       "Validation: 0it [00:00, ?it/s]"
      ]
     },
     "metadata": {},
     "output_type": "display_data"
    },
    {
     "data": {
      "application/vnd.jupyter.widget-view+json": {
       "model_id": "",
       "version_major": 2,
       "version_minor": 0
      },
      "text/plain": [
       "Validation: 0it [00:00, ?it/s]"
      ]
     },
     "metadata": {},
     "output_type": "display_data"
    },
    {
     "data": {
      "application/vnd.jupyter.widget-view+json": {
       "model_id": "",
       "version_major": 2,
       "version_minor": 0
      },
      "text/plain": [
       "Validation: 0it [00:00, ?it/s]"
      ]
     },
     "metadata": {},
     "output_type": "display_data"
    },
    {
     "name": "stderr",
     "output_type": "stream",
     "text": [
      "Metric valid/loss improved by 0.010 >= min_delta = 0.0. New best score: 0.892\n"
     ]
    },
    {
     "data": {
      "application/vnd.jupyter.widget-view+json": {
       "model_id": "",
       "version_major": 2,
       "version_minor": 0
      },
      "text/plain": [
       "Validation: 0it [00:00, ?it/s]"
      ]
     },
     "metadata": {},
     "output_type": "display_data"
    },
    {
     "data": {
      "application/vnd.jupyter.widget-view+json": {
       "model_id": "",
       "version_major": 2,
       "version_minor": 0
      },
      "text/plain": [
       "Validation: 0it [00:00, ?it/s]"
      ]
     },
     "metadata": {},
     "output_type": "display_data"
    },
    {
     "data": {
      "application/vnd.jupyter.widget-view+json": {
       "model_id": "",
       "version_major": 2,
       "version_minor": 0
      },
      "text/plain": [
       "Validation: 0it [00:00, ?it/s]"
      ]
     },
     "metadata": {},
     "output_type": "display_data"
    },
    {
     "data": {
      "application/vnd.jupyter.widget-view+json": {
       "model_id": "",
       "version_major": 2,
       "version_minor": 0
      },
      "text/plain": [
       "Validation: 0it [00:00, ?it/s]"
      ]
     },
     "metadata": {},
     "output_type": "display_data"
    },
    {
     "name": "stderr",
     "output_type": "stream",
     "text": [
      "Metric valid/loss improved by 0.001 >= min_delta = 0.0. New best score: 0.890\n"
     ]
    },
    {
     "data": {
      "application/vnd.jupyter.widget-view+json": {
       "model_id": "",
       "version_major": 2,
       "version_minor": 0
      },
      "text/plain": [
       "Validation: 0it [00:00, ?it/s]"
      ]
     },
     "metadata": {},
     "output_type": "display_data"
    },
    {
     "data": {
      "application/vnd.jupyter.widget-view+json": {
       "model_id": "",
       "version_major": 2,
       "version_minor": 0
      },
      "text/plain": [
       "Validation: 0it [00:00, ?it/s]"
      ]
     },
     "metadata": {},
     "output_type": "display_data"
    },
    {
     "data": {
      "application/vnd.jupyter.widget-view+json": {
       "model_id": "",
       "version_major": 2,
       "version_minor": 0
      },
      "text/plain": [
       "Validation: 0it [00:00, ?it/s]"
      ]
     },
     "metadata": {},
     "output_type": "display_data"
    },
    {
     "data": {
      "application/vnd.jupyter.widget-view+json": {
       "model_id": "",
       "version_major": 2,
       "version_minor": 0
      },
      "text/plain": [
       "Validation: 0it [00:00, ?it/s]"
      ]
     },
     "metadata": {},
     "output_type": "display_data"
    },
    {
     "data": {
      "application/vnd.jupyter.widget-view+json": {
       "model_id": "",
       "version_major": 2,
       "version_minor": 0
      },
      "text/plain": [
       "Validation: 0it [00:00, ?it/s]"
      ]
     },
     "metadata": {},
     "output_type": "display_data"
    },
    {
     "data": {
      "application/vnd.jupyter.widget-view+json": {
       "model_id": "",
       "version_major": 2,
       "version_minor": 0
      },
      "text/plain": [
       "Validation: 0it [00:00, ?it/s]"
      ]
     },
     "metadata": {},
     "output_type": "display_data"
    },
    {
     "data": {
      "application/vnd.jupyter.widget-view+json": {
       "model_id": "",
       "version_major": 2,
       "version_minor": 0
      },
      "text/plain": [
       "Validation: 0it [00:00, ?it/s]"
      ]
     },
     "metadata": {},
     "output_type": "display_data"
    },
    {
     "name": "stderr",
     "output_type": "stream",
     "text": [
      "Monitored metric valid/loss did not improve in the last 7 records. Best score: 0.890. Signaling Trainer to stop.\n"
     ]
    }
   ],
   "source": [
    "logger = TensorBoardLogger(\"logs\",name=\"GDA_CNN_cat\")\n",
    "earlystop = EarlyStopping(monitor=\"valid/loss\", patience=7, verbose=True)\n",
    "model = GDAClassification(lr=1e-3)\n",
    "trainer = pl.Trainer(accelerator=\"gpu\", devices=1, logger=logger, max_epochs=50, callbacks=earlystop)\n",
    "trainer.fit(model, train_dataloaders=trainloader,val_dataloaders=valloader)"
   ]
  },
  {
   "cell_type": "code",
   "execution_count": 89,
   "id": "9e9620bf",
   "metadata": {},
   "outputs": [
    {
     "name": "stderr",
     "output_type": "stream",
     "text": [
      "LOCAL_RANK: 0 - CUDA_VISIBLE_DEVICES: [0]\n"
     ]
    },
    {
     "data": {
      "application/vnd.jupyter.widget-view+json": {
       "model_id": "abeaa9b2395e4f1e864326582b405477",
       "version_major": 2,
       "version_minor": 0
      },
      "text/plain": [
       "Testing: 0it [00:00, ?it/s]"
      ]
     },
     "metadata": {},
     "output_type": "display_data"
    },
    {
     "name": "stderr",
     "output_type": "stream",
     "text": [
      "LOCAL_RANK: 0 - CUDA_VISIBLE_DEVICES: [0]\n"
     ]
    },
    {
     "name": "stdout",
     "output_type": "stream",
     "text": [
      "────────────────────────────────────────────────────────────────────────────────────────────────────────────────────────\n",
      "       Test metric             DataLoader 0\n",
      "────────────────────────────────────────────────────────────────────────────────────────────────────────────────────────\n",
      "      test/accuracy          0.731681764125824\n",
      "        test/loss            0.876594603061676\n",
      "────────────────────────────────────────────────────────────────────────────────────────────────────────────────────────\n"
     ]
    },
    {
     "data": {
      "application/vnd.jupyter.widget-view+json": {
       "model_id": "440aec2d6a9e444bb2d60c56e739f77d",
       "version_major": 2,
       "version_minor": 0
      },
      "text/plain": [
       "Predicting: 574it [00:00, ?it/s]"
      ]
     },
     "metadata": {},
     "output_type": "display_data"
    }
   ],
   "source": [
    "out = trainer.test(model, dataloaders=testloader)\n",
    "ypreds = trainer.predict(model,dataloaders=predictloader)"
   ]
  },
  {
   "cell_type": "code",
   "execution_count": 94,
   "id": "75c913c6",
   "metadata": {},
   "outputs": [
    {
     "data": {
      "text/plain": [
       "<sklearn.metrics._plot.confusion_matrix.ConfusionMatrixDisplay at 0x7eff481fa820>"
      ]
     },
     "execution_count": 94,
     "metadata": {},
     "output_type": "execute_result"
    },
    {
     "data": {
      "image/png": "[encoded data removed]",
      "text/plain": [
       "<Figure size 640x480 with 2 Axes>"
      ]
     },
     "metadata": {},
     "output_type": "display_data"
    }
   ],
   "source": [
    "from sklearn.metrics import confusion_matrix, ConfusionMatrixDisplay\n",
    "cm = confusion_matrix(testset1.labels, torch.tensor(ypreds))\n",
    "ConfusionMatrixDisplay(cm).plot()"
   ]
  },
  {
   "cell_type": "code",
   "execution_count": null,
   "id": "29d51070",
   "metadata": {},
   "outputs": [],
   "source": []
  },
  {
   "cell_type": "markdown",
   "id": "3cd62be9",
   "metadata": {},
   "source": [
    "## RNN-CNN (incomplete)"
   ]
  },
  {
   "cell_type": "code",
   "execution_count": null,
   "id": "66f4ecc2",
   "metadata": {},
   "outputs": [],
   "source": [
    "emb = ESM1bEmbedder()"
   ]
  },
  {
   "cell_type": "code",
   "execution_count": null,
   "id": "a9fd0059",
   "metadata": {},
   "outputs": [],
   "source": [
    "gn = traindf.loc[100,'Gene']"
   ]
  },
  {
   "cell_type": "code",
   "execution_count": null,
   "id": "065a4d0d",
   "metadata": {},
   "outputs": [],
   "source": [
    "gnv = []\n",
    "for i in range(len(gn)//1022 + 1):\n",
    "    gnv = gnv + emb.embed(gn[i*1022:min(len(gn),(i+1)*1022)]).tolist()"
   ]
  },
  {
   "cell_type": "code",
   "execution_count": null,
   "id": "54403b29",
   "metadata": {},
   "outputs": [],
   "source": []
  },
  {
   "cell_type": "code",
   "execution_count": null,
   "id": "dd133d2b",
   "metadata": {},
   "outputs": [],
   "source": [
    "class GDPair(torch.utils.data.Dataset):\n",
    "    def __init__(self,data,load_from_save=False,datatype='train'):\n",
    "        if not load_from_save:\n",
    "            self.data = data # data is pandas dataframe of samples\n",
    "            self.tokenize_diseases()\n",
    "            # Train doc2vec embeddings for disease if model doesn't exist already\n",
    "            if glob2.glob('disease_doc2vec') == []:\n",
    "                self.embed_model_disease = self.train_doc2vec_embeddings(which='disease_tokens',size=20)\n",
    "            else:\n",
    "                print('Found disease doc2vec model')\n",
    "                self.embed_model_disease = Doc2Vec.load('disease_doc2vec')\n",
    "\n",
    "            self.embed_model_gene = ESM1bEmbedder()\n",
    "\n",
    "            self.genes = []\n",
    "            self.diseases = []\n",
    "            for i in range(len(data)):\n",
    "                row = data.loc[i]\n",
    "                self.genes += [torch.tensor(self.process_gene_esm(row['Gene'])).unsqueeze(0)]\n",
    "                self.diseases += [torch.tensor(self.process_disease(row['disease_tokens'])).unsqueeze(0)]\n",
    "            torch.save(self.genes, f'gene_vector_{datatype}.pt')\n",
    "            torch.save(self.diseases, f'disease_vector_{datatype}.pt')\n",
    "            \n",
    "        else:\n",
    "            self.data = data\n",
    "            self.genes = torch.load(f'gene_vector_{datatype}.pt')\n",
    "            self.diseases = torch.load(f'disease_vector_{datatype}.pt')\n",
    "\n",
    "    \n",
    "    def tokenize_diseases(self):\n",
    "        removal= ['ADV','PRON','CCONJ','PUNCT','PART','DET','ADP','SPACE', 'SYM']\n",
    "        nlp = en_core_web_md.load()\n",
    "        tokens = []\n",
    "        for disease in nlp.pipe(self.data['Disease']):\n",
    "            tokens.append([token.lemma_ for token in disease if token.pos_ not in removal])\n",
    "        self.data['disease_tokens']  = tokens\n",
    "        \n",
    "    def train_doc2vec_embeddings(self,which='disease_tokens',size=20):\n",
    "        tokens = self.data[which]\n",
    "        dictionary = Dictionary(self.data[which])\n",
    "        documents = [TaggedDocument(doc,dictionary.doc2idx(doc)) for doc in tokens]\n",
    "        model = Doc2Vec(documents,vector_size=size)\n",
    "        print('Finished Doc2Vec embedding for ',which)\n",
    "        model.save(f'{which.split(\"_\")[0]}_doc2vec')\n",
    "        return model\n",
    "        \n",
    "    def process_disease(self,disease_token):\n",
    "        return self.embed_model_disease.infer_vector(disease_token)\n",
    "    \n",
    "    def process_gene_esm(self,gene):\n",
    "        embedder = self.embed_model_gene\n",
    "        gnv = []\n",
    "        for i in range(len(gene)//1022 + 1):\n",
    "            gnv = gnv + list(emb.embed(gene[i*1022:min(len(gene),(i+1)*1022)]))\n",
    "        return gnv\n",
    "        \n",
    "    def __len__(self):\n",
    "        return len(self.data)\n",
    "    \n",
    "    def __getitem__(self, i):\n",
    "        return self.genes[i],self.diseases[i],self.data.loc[i,'Y']\n"
   ]
  },
  {
   "cell_type": "code",
   "execution_count": null,
   "id": "6bd690e0",
   "metadata": {},
   "outputs": [],
   "source": [
    "class GDARNN(pl.LightningModule):\n",
    "    def __init__(self, lr=1e-3, num_workers=4, batch_size=32):\n",
    "        super().__init__()\n",
    "        self.lr = lr\n",
    "        self.num_workers = num_workers\n",
    "        self.batch_size = batch_size\n",
    "        self.rmse = Evaluator(name='RMSE')\n",
    "        self.r2 = Evaluator(name='R2')\n",
    "        self.spm = Evaluator(name='Spearman')\n",
    "        self.criterions = [self.rmse, self.r2, self.spm]\n",
    "        \n",
    "\n",
    "        \n",
    "    def forward(self, gene, disease):\n",
    "\n",
    "        return self.lnc2(x)\n",
    "    \n",
    "    def training_step(self,batch,batch_idx):\n",
    "        gene, disease, y = batch\n",
    "        y_pred = torch.flatten(self(gene, disease)).double()\n",
    "        \n",
    "        mse = nn.MSELoss()\n",
    "        mse_loss = mse(y_pred,y)\n",
    "        self.log('train/loss',mse_loss,on_epoch=True)\n",
    "        \n",
    "        l1 = nn.L1Loss()\n",
    "        l1_loss = l1(y_pred,y)\n",
    "        self.log('train/lossl1',l1_loss,on_epoch=True)\n",
    "\n",
    "        losses = [criterion(y.cpu(), y_pred.cpu().detach().numpy()) for criterion in self.criterions]\n",
    "        self.log('train/loss_rmse',losses[0],on_epoch=True)\n",
    "        self.log('train/loss_r2',losses[1],on_epoch=True)\n",
    "        self.log('train/loss_spm',losses[2],on_epoch=True)\n",
    "        return l1_loss\n",
    "    \n",
    "    def validation_step(self,batch,batch_idx):\n",
    "        gene, disease, y = batch\n",
    "        y_pred = torch.flatten(self(gene, disease)).double()\n",
    "        \n",
    "        mse = nn.MSELoss()\n",
    "        mse_loss = mse(y_pred,y)\n",
    "        self.log('valid/loss',mse_loss,on_epoch=True)\n",
    "        \n",
    "        l1 = nn.L1Loss()\n",
    "        l1_loss = l1(y_pred,y)\n",
    "        self.log('valid/lossl1',l1_loss,on_epoch=True)\n",
    "        \n",
    "        losses = [criterion(y.cpu(), y_pred.cpu().detach().numpy()) for criterion in self.criterions]\n",
    "        self.log('valid/loss_rmse',losses[0],on_epoch=True)\n",
    "        self.log('valid/loss_r2',losses[1],on_epoch=True)\n",
    "        self.log('valid/loss_spm',losses[2],on_epoch=True)\n",
    "        return l1_loss\n",
    "    \n",
    "    def test_step(self,batch,batch_idx):\n",
    "        gene, disease, y = batch\n",
    "        y_pred = torch.flatten(self(gene, disease)).double()\n",
    "        \n",
    "        mse = nn.MSELoss()\n",
    "        mse_loss = mse(y_pred,y)\n",
    "        self.log('test/loss',mse_loss,on_epoch=True)\n",
    "        \n",
    "        l1 = nn.L1Loss()\n",
    "        l1_loss = l1(y_pred,y)\n",
    "        self.log('test/lossl1',l1_loss,on_epoch=True)\n",
    "        \n",
    "        losses = [criterion(y.cpu(), y_pred.cpu().detach().numpy()) for criterion in self.criterions]\n",
    "        self.log('test/loss_rmse',losses[0],on_epoch=True)\n",
    "        self.log('test/loss_r2',losses[1],on_epoch=True)\n",
    "        self.log('test/loss_spm',losses[2],on_epoch=True)\n",
    "        return l1_loss\n",
    "\n",
    "    def configure_optimizers(self):\n",
    "        return optim.Adam(self.parameters(), lr=self.lr)\n",
    "    \n",
    "    def predict_step(self,batch,batch_idx):\n",
    "        gene, disease, y = batch\n",
    "        return self(gene,disease)\n",
    "    "
   ]
  },
  {
   "cell_type": "code",
   "execution_count": null,
   "id": "7697b158",
   "metadata": {},
   "outputs": [],
   "source": []
  },
  {
   "cell_type": "code",
   "execution_count": null,
   "id": "7c33c482",
   "metadata": {},
   "outputs": [],
   "source": []
  },
  {
   "cell_type": "code",
   "execution_count": null,
   "id": "1820c698",
   "metadata": {},
   "outputs": [],
   "source": []
  }
 ],
 "metadata": {
  "kernelspec": {
   "display_name": "Python 3 (ipykernel)",
   "language": "python",
   "name": "python3"
  },
  "language_info": {
   "codemirror_mode": {
    "name": "ipython",
    "version": 3
   },
   "file_extension": ".py",
   "mimetype": "text/x-python",
   "name": "python",
   "nbconvert_exporter": "python",
   "pygments_lexer": "ipython3",
   "version": "3.8.16"
  }
 },
 "nbformat": 4,
 "nbformat_minor": 5
}
